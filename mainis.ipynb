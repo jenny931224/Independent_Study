{
  "nbformat": 4,
  "nbformat_minor": 0,
  "metadata": {
    "colab": {
      "name": "mainis.ipynb",
      "provenance": [],
      "authorship_tag": "ABX9TyN6NZ/kdAQI2zZK4eiWwj0r",
      "include_colab_link": true
    },
    "kernelspec": {
      "name": "python3",
      "display_name": "Python 3"
    },
    "language_info": {
      "name": "python"
    }
  },
  "cells": [
    {
      "cell_type": "markdown",
      "metadata": {
        "id": "view-in-github",
        "colab_type": "text"
      },
      "source": [
        "<a href=\"https://colab.research.google.com/github/jenny931224/Independent_Study/blob/main/mainis.ipynb\" target=\"_parent\"><img src=\"https://colab.research.google.com/assets/colab-badge.svg\" alt=\"Open In Colab\"/></a>"
      ]
    },
    {
      "cell_type": "code",
      "metadata": {
        "id": "mKkEVgWxvaop"
      },
      "source": [
        "import pandas as pd\n",
        "import seaborn as ans\n",
        "import numpy as np\n",
        "import matplotlib.pyplot as plt\n",
        "from tensorflow import keras\n",
        "from tensorflow.keras import layers"
      ],
      "execution_count": 1,
      "outputs": []
    },
    {
      "cell_type": "code",
      "metadata": {
        "id": "L9cNV6FkxUp9"
      },
      "source": [
        "newData = pd.read_csv('')"
      ],
      "execution_count": null,
      "outputs": []
    }
  ]
}